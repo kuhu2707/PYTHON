{
 "cells": [
  {
   "cell_type": "code",
   "execution_count": 3,
   "id": "717c1d91-2976-4bd6-9e2d-608243dd8189",
   "metadata": {},
   "outputs": [
    {
     "name": "stdout",
     "output_type": "stream",
     "text": [
      "Requirement already satisfied: firebase_admin in c:\\users\\asus\\anaconda3\\lib\\site-packages (7.1.0)\n",
      "Requirement already satisfied: cachecontrol>=0.14.3 in c:\\users\\asus\\anaconda3\\lib\\site-packages (from firebase_admin) (0.14.3)\n",
      "Requirement already satisfied: google-api-core<3.0.0dev,>=2.25.1 in c:\\users\\asus\\anaconda3\\lib\\site-packages (from google-api-core[grpc]<3.0.0dev,>=2.25.1; platform_python_implementation != \"PyPy\"->firebase_admin) (2.25.1)\n",
      "Requirement already satisfied: google-cloud-firestore>=2.21.0 in c:\\users\\asus\\anaconda3\\lib\\site-packages (from firebase_admin) (2.21.0)\n",
      "Requirement already satisfied: google-cloud-storage>=3.1.1 in c:\\users\\asus\\anaconda3\\lib\\site-packages (from firebase_admin) (3.3.1)\n",
      "Requirement already satisfied: pyjwt>=2.10.1 in c:\\users\\asus\\anaconda3\\lib\\site-packages (from pyjwt[crypto]>=2.10.1->firebase_admin) (2.10.1)\n",
      "Requirement already satisfied: httpx==0.28.1 in c:\\users\\asus\\anaconda3\\lib\\site-packages (from httpx[http2]==0.28.1->firebase_admin) (0.28.1)\n",
      "Requirement already satisfied: anyio in c:\\users\\asus\\anaconda3\\lib\\site-packages (from httpx==0.28.1->httpx[http2]==0.28.1->firebase_admin) (4.2.0)\n",
      "Requirement already satisfied: certifi in c:\\users\\asus\\anaconda3\\lib\\site-packages (from httpx==0.28.1->httpx[http2]==0.28.1->firebase_admin) (2024.8.30)\n",
      "Requirement already satisfied: httpcore==1.* in c:\\users\\asus\\anaconda3\\lib\\site-packages (from httpx==0.28.1->httpx[http2]==0.28.1->firebase_admin) (1.0.2)\n",
      "Requirement already satisfied: idna in c:\\users\\asus\\anaconda3\\lib\\site-packages (from httpx==0.28.1->httpx[http2]==0.28.1->firebase_admin) (3.7)\n",
      "Requirement already satisfied: h2<5,>=3 in c:\\users\\asus\\anaconda3\\lib\\site-packages (from httpx[http2]==0.28.1->firebase_admin) (4.3.0)\n",
      "Requirement already satisfied: h11<0.15,>=0.13 in c:\\users\\asus\\anaconda3\\lib\\site-packages (from httpcore==1.*->httpx==0.28.1->httpx[http2]==0.28.1->firebase_admin) (0.14.0)\n",
      "Requirement already satisfied: requests>=2.16.0 in c:\\users\\asus\\anaconda3\\lib\\site-packages (from cachecontrol>=0.14.3->firebase_admin) (2.32.5)\n",
      "Requirement already satisfied: msgpack<2.0.0,>=0.5.2 in c:\\users\\asus\\anaconda3\\lib\\site-packages (from cachecontrol>=0.14.3->firebase_admin) (1.0.3)\n",
      "Requirement already satisfied: googleapis-common-protos<2.0.0,>=1.56.2 in c:\\users\\asus\\anaconda3\\lib\\site-packages (from google-api-core<3.0.0dev,>=2.25.1->google-api-core[grpc]<3.0.0dev,>=2.25.1; platform_python_implementation != \"PyPy\"->firebase_admin) (1.70.0)\n",
      "Requirement already satisfied: protobuf!=3.20.0,!=3.20.1,!=4.21.0,!=4.21.1,!=4.21.2,!=4.21.3,!=4.21.4,!=4.21.5,<7.0.0,>=3.19.5 in c:\\users\\asus\\anaconda3\\lib\\site-packages (from google-api-core<3.0.0dev,>=2.25.1->google-api-core[grpc]<3.0.0dev,>=2.25.1; platform_python_implementation != \"PyPy\"->firebase_admin) (6.32.0)\n",
      "Requirement already satisfied: proto-plus<2.0.0,>=1.22.3 in c:\\users\\asus\\anaconda3\\lib\\site-packages (from google-api-core<3.0.0dev,>=2.25.1->google-api-core[grpc]<3.0.0dev,>=2.25.1; platform_python_implementation != \"PyPy\"->firebase_admin) (1.26.1)\n",
      "Requirement already satisfied: google-auth<3.0.0,>=2.14.1 in c:\\users\\asus\\anaconda3\\lib\\site-packages (from google-api-core<3.0.0dev,>=2.25.1->google-api-core[grpc]<3.0.0dev,>=2.25.1; platform_python_implementation != \"PyPy\"->firebase_admin) (2.40.3)\n",
      "Requirement already satisfied: grpcio<2.0.0,>=1.33.2 in c:\\users\\asus\\anaconda3\\lib\\site-packages (from google-api-core[grpc]<3.0.0dev,>=2.25.1; platform_python_implementation != \"PyPy\"->firebase_admin) (1.74.0)\n",
      "Requirement already satisfied: grpcio-status<2.0.0,>=1.33.2 in c:\\users\\asus\\anaconda3\\lib\\site-packages (from google-api-core[grpc]<3.0.0dev,>=2.25.1; platform_python_implementation != \"PyPy\"->firebase_admin) (1.74.0)\n",
      "Requirement already satisfied: google-cloud-core<3.0.0,>=1.4.1 in c:\\users\\asus\\anaconda3\\lib\\site-packages (from google-cloud-firestore>=2.21.0->firebase_admin) (2.4.3)\n",
      "Requirement already satisfied: google-resumable-media<3.0.0,>=2.7.2 in c:\\users\\asus\\anaconda3\\lib\\site-packages (from google-cloud-storage>=3.1.1->firebase_admin) (2.7.2)\n",
      "Requirement already satisfied: google-crc32c<2.0.0,>=1.1.3 in c:\\users\\asus\\anaconda3\\lib\\site-packages (from google-cloud-storage>=3.1.1->firebase_admin) (1.7.0)\n",
      "Requirement already satisfied: cryptography>=3.4.0 in c:\\users\\asus\\anaconda3\\lib\\site-packages (from pyjwt[crypto]>=2.10.1->firebase_admin) (43.0.0)\n",
      "Requirement already satisfied: cffi>=1.12 in c:\\users\\asus\\anaconda3\\lib\\site-packages (from cryptography>=3.4.0->pyjwt[crypto]>=2.10.1->firebase_admin) (1.17.1)\n",
      "Requirement already satisfied: cachetools<6.0,>=2.0.0 in c:\\users\\asus\\anaconda3\\lib\\site-packages (from google-auth<3.0.0,>=2.14.1->google-api-core<3.0.0dev,>=2.25.1->google-api-core[grpc]<3.0.0dev,>=2.25.1; platform_python_implementation != \"PyPy\"->firebase_admin) (5.3.3)\n",
      "Requirement already satisfied: pyasn1-modules>=0.2.1 in c:\\users\\asus\\anaconda3\\lib\\site-packages (from google-auth<3.0.0,>=2.14.1->google-api-core<3.0.0dev,>=2.25.1->google-api-core[grpc]<3.0.0dev,>=2.25.1; platform_python_implementation != \"PyPy\"->firebase_admin) (0.2.8)\n",
      "Requirement already satisfied: rsa<5,>=3.1.4 in c:\\users\\asus\\anaconda3\\lib\\site-packages (from google-auth<3.0.0,>=2.14.1->google-api-core<3.0.0dev,>=2.25.1->google-api-core[grpc]<3.0.0dev,>=2.25.1; platform_python_implementation != \"PyPy\"->firebase_admin) (4.9.1)\n",
      "Requirement already satisfied: hyperframe<7,>=6.1 in c:\\users\\asus\\anaconda3\\lib\\site-packages (from h2<5,>=3->httpx[http2]==0.28.1->firebase_admin) (6.1.0)\n",
      "Requirement already satisfied: hpack<5,>=4.1 in c:\\users\\asus\\anaconda3\\lib\\site-packages (from h2<5,>=3->httpx[http2]==0.28.1->firebase_admin) (4.1.0)\n",
      "Requirement already satisfied: charset_normalizer<4,>=2 in c:\\users\\asus\\anaconda3\\lib\\site-packages (from requests>=2.16.0->cachecontrol>=0.14.3->firebase_admin) (3.3.2)\n",
      "Requirement already satisfied: urllib3<3,>=1.21.1 in c:\\users\\asus\\anaconda3\\lib\\site-packages (from requests>=2.16.0->cachecontrol>=0.14.3->firebase_admin) (2.2.3)\n",
      "Requirement already satisfied: sniffio>=1.1 in c:\\users\\asus\\anaconda3\\lib\\site-packages (from anyio->httpx==0.28.1->httpx[http2]==0.28.1->firebase_admin) (1.3.0)\n",
      "Requirement already satisfied: pycparser in c:\\users\\asus\\anaconda3\\lib\\site-packages (from cffi>=1.12->cryptography>=3.4.0->pyjwt[crypto]>=2.10.1->firebase_admin) (2.21)\n",
      "Requirement already satisfied: pyasn1<0.5.0,>=0.4.6 in c:\\users\\asus\\anaconda3\\lib\\site-packages (from pyasn1-modules>=0.2.1->google-auth<3.0.0,>=2.14.1->google-api-core<3.0.0dev,>=2.25.1->google-api-core[grpc]<3.0.0dev,>=2.25.1; platform_python_implementation != \"PyPy\"->firebase_admin) (0.4.8)\n",
      "Note: you may need to restart the kernel to use updated packages.\n"
     ]
    }
   ],
   "source": [
    "pip install firebase_admin"
   ]
  },
  {
   "cell_type": "code",
   "execution_count": 4,
   "id": "a7073153-ecee-4b95-9964-f3067574aae0",
   "metadata": {},
   "outputs": [],
   "source": [
    "import firebase_admin"
   ]
  },
  {
   "cell_type": "code",
   "execution_count": 5,
   "id": "a445f3fe-b1e2-44b1-afdb-95e14d97507f",
   "metadata": {},
   "outputs": [],
   "source": [
    "from firebase_admin import db,credentials"
   ]
  },
  {
   "cell_type": "code",
   "execution_count": 10,
   "id": "53522e4f-e94d-4fc5-a4f9-ddb76887356d",
   "metadata": {},
   "outputs": [
    {
     "data": {
      "text/plain": [
       "<firebase_admin.App at 0x1f86f4dc2f0>"
      ]
     },
     "execution_count": 10,
     "metadata": {},
     "output_type": "execute_result"
    }
   ],
   "source": [
    "#authentication to firebase\n",
    "cred = credentials.Certificate(\"credentials.json\")\n",
    "firebase_admin.initialize_app(cred,{\"databaseURL\": \"https://fir-project-7144a-default-rtdb.firebaseio.com/\"})"
   ]
  },
  {
   "cell_type": "code",
   "execution_count": 11,
   "id": "92b4091e-a6be-4b71-a0c9-a97ba83d3fe6",
   "metadata": {},
   "outputs": [],
   "source": [
    "#creating refrence to root node\n",
    "ref = db.reference(\"/\")"
   ]
  },
  {
   "cell_type": "code",
   "execution_count": 15,
   "id": "d9e3d480-41bc-4f8f-b107-a2e6ab08cce7",
   "metadata": {},
   "outputs": [
    {
     "data": {
      "text/plain": [
       "{'age': 22, 'name': 'kuhu'}"
      ]
     },
     "execution_count": 15,
     "metadata": {},
     "output_type": "execute_result"
    }
   ],
   "source": [
    "#retrive data from root node\n",
    "ref.get()"
   ]
  },
  {
   "cell_type": "code",
   "execution_count": 17,
   "id": "5d3950df-8701-4f47-82a1-9c57959b1404",
   "metadata": {},
   "outputs": [
    {
     "data": {
      "text/plain": [
       "'kuhu'"
      ]
     },
     "execution_count": 17,
     "metadata": {},
     "output_type": "execute_result"
    }
   ],
   "source": [
    "#to get value by key\n",
    "db.reference('/name').get()"
   ]
  },
  {
   "cell_type": "code",
   "execution_count": 19,
   "id": "d8ebad1a-aea3-481e-be86-8acb6878cda8",
   "metadata": {},
   "outputs": [
    {
     "data": {
      "text/plain": [
       "{'age': 9, 'name': 'kuhu'}"
      ]
     },
     "execution_count": 19,
     "metadata": {},
     "output_type": "execute_result"
    }
   ],
   "source": [
    "#set operation\n",
    "db.reference('/age').set(9)\n",
    "ref.get()"
   ]
  },
  {
   "cell_type": "code",
   "execution_count": 21,
   "id": "a7864a21-6438-434f-82f7-99aae78d305f",
   "metadata": {},
   "outputs": [
    {
     "data": {
      "text/plain": [
       "{'age': 9, 'name': 'jaydeep'}"
      ]
     },
     "execution_count": 21,
     "metadata": {},
     "output_type": "execute_result"
    }
   ],
   "source": [
    "#update operation - update existing value\n",
    "db.reference('/').update({'name':\"jaydeep\"})\n",
    "ref.get()"
   ]
  },
  {
   "cell_type": "code",
   "execution_count": 23,
   "id": "b2e84c5e-8c76-4c24-9060-3f3d8ef4e264",
   "metadata": {},
   "outputs": [
    {
     "data": {
      "text/plain": [
       "{'age': 9, 'language': 'AI', 'name': 'jaydeep'}"
      ]
     },
     "execution_count": 23,
     "metadata": {},
     "output_type": "execute_result"
    }
   ],
   "source": [
    "#if value is not existing it will add the key:value\n",
    "db.reference('/').update({'language':'AI'})\n",
    "ref.get()"
   ]
  },
  {
   "cell_type": "code",
   "execution_count": 24,
   "id": "6348ec03-a9df-4ecf-afa9-961578977625",
   "metadata": {},
   "outputs": [
    {
     "data": {
      "text/plain": [
       "{'age': 9, 'language': 'AI', 'name': {'-OZDTzWbk-pzSBUejJmA': 'pihu'}}"
      ]
     },
     "execution_count": 24,
     "metadata": {},
     "output_type": "execute_result"
    }
   ],
   "source": [
    "#push operation\n",
    "db.reference('/name').push().set('pihu')\n",
    "ref.get()"
   ]
  },
  {
   "cell_type": "code",
   "execution_count": 25,
   "id": "628e5ab7-7ec5-4b2e-8209-63525def403f",
   "metadata": {},
   "outputs": [
    {
     "ename": "TypeError",
     "evalue": "unsupported operand type(s) for +: 'NoneType' and 'int'",
     "output_type": "error",
     "traceback": [
      "\u001b[1;31m---------------------------------------------------------------------------\u001b[0m",
      "\u001b[1;31mTypeError\u001b[0m                                 Traceback (most recent call last)",
      "Cell \u001b[1;32mIn[25], line 5\u001b[0m\n\u001b[0;32m      2\u001b[0m \u001b[38;5;28;01mdef\u001b[39;00m \u001b[38;5;21mincrement_transaction\u001b[39m(current_val):\n\u001b[0;32m      3\u001b[0m     \u001b[38;5;28;01mreturn\u001b[39;00m current_val\u001b[38;5;241m+\u001b[39m\u001b[38;5;241m1\u001b[39m\n\u001b[1;32m----> 5\u001b[0m db\u001b[38;5;241m.\u001b[39mreference(\u001b[38;5;124m'\u001b[39m\u001b[38;5;124m/title_count\u001b[39m\u001b[38;5;124m'\u001b[39m)\u001b[38;5;241m.\u001b[39mtransaction(increment_transaction)\n\u001b[0;32m      6\u001b[0m ref\u001b[38;5;241m.\u001b[39mget()\n",
      "File \u001b[1;32m~\\anaconda3\\Lib\\site-packages\\firebase_admin\\db.py:411\u001b[0m, in \u001b[0;36mReference.transaction\u001b[1;34m(self, transaction_update)\u001b[0m\n\u001b[0;32m    409\u001b[0m data, etag \u001b[38;5;241m=\u001b[39m \u001b[38;5;28mself\u001b[39m\u001b[38;5;241m.\u001b[39mget(etag\u001b[38;5;241m=\u001b[39m\u001b[38;5;28;01mTrue\u001b[39;00m)\n\u001b[0;32m    410\u001b[0m \u001b[38;5;28;01mwhile\u001b[39;00m tries \u001b[38;5;241m<\u001b[39m _TRANSACTION_MAX_RETRIES:\n\u001b[1;32m--> 411\u001b[0m     new_data \u001b[38;5;241m=\u001b[39m transaction_update(data)\n\u001b[0;32m    412\u001b[0m     success, data, etag \u001b[38;5;241m=\u001b[39m \u001b[38;5;28mself\u001b[39m\u001b[38;5;241m.\u001b[39mset_if_unchanged(etag, new_data)\n\u001b[0;32m    413\u001b[0m     \u001b[38;5;28;01mif\u001b[39;00m success:\n",
      "Cell \u001b[1;32mIn[25], line 3\u001b[0m, in \u001b[0;36mincrement_transaction\u001b[1;34m(current_val)\u001b[0m\n\u001b[0;32m      2\u001b[0m \u001b[38;5;28;01mdef\u001b[39;00m \u001b[38;5;21mincrement_transaction\u001b[39m(current_val):\n\u001b[1;32m----> 3\u001b[0m     \u001b[38;5;28;01mreturn\u001b[39;00m current_val\u001b[38;5;241m+\u001b[39m\u001b[38;5;241m1\u001b[39m\n",
      "\u001b[1;31mTypeError\u001b[0m: unsupported operand type(s) for +: 'NoneType' and 'int'"
     ]
    }
   ],
   "source": [
    "#transaction - if we have it in our db / app\n",
    "def increment_transaction(current_val):\n",
    "    return current_val+1\n",
    "\n",
    "db.reference('/title_count').transaction(increment_transaction)\n",
    "ref.get()"
   ]
  },
  {
   "cell_type": "code",
   "execution_count": 27,
   "id": "436cb8f9-26d1-44b8-a2a0-328d12fb0848",
   "metadata": {},
   "outputs": [
    {
     "data": {
      "text/plain": [
       "{'language': 'AI', 'name': {'-OZDTzWbk-pzSBUejJmA': 'pihu'}}"
      ]
     },
     "execution_count": 27,
     "metadata": {},
     "output_type": "execute_result"
    }
   ],
   "source": [
    "#delete operation\n",
    "db.reference('/age').delete()\n",
    "ref.get()"
   ]
  },
  {
   "cell_type": "code",
   "execution_count": null,
   "id": "d5121468-a059-4aea-bcd6-8829ead996f3",
   "metadata": {},
   "outputs": [],
   "source": []
  }
 ],
 "metadata": {
  "kernelspec": {
   "display_name": "Python 3 (ipykernel)",
   "language": "python",
   "name": "python3"
  },
  "language_info": {
   "codemirror_mode": {
    "name": "ipython",
    "version": 3
   },
   "file_extension": ".py",
   "mimetype": "text/x-python",
   "name": "python",
   "nbconvert_exporter": "python",
   "pygments_lexer": "ipython3",
   "version": "3.12.7"
  }
 },
 "nbformat": 4,
 "nbformat_minor": 5
}
